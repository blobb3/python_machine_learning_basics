{
 "cells": [
  {
   "cell_type": "markdown",
   "id": "a59b1799",
   "metadata": {},
   "source": [
    "# Classification analysis (titanic data)"
   ]
  },
  {
   "cell_type": "markdown",
   "id": "8ca19f50",
   "metadata": {},
   "source": [
    "## Libraries and settings"
   ]
  },
  {
   "cell_type": "code",
   "execution_count": 43,
   "id": "2406c857",
   "metadata": {},
   "outputs": [
    {
     "name": "stdout",
     "output_type": "stream",
     "text": [
      "/workspaces/python_machine_learning_basics/CART_RandomForest\n"
     ]
    }
   ],
   "source": [
    "# Libraries\n",
    "import os\n",
    "import numpy as np\n",
    "import pandas as pd\n",
    "import seaborn as sns\n",
    "import matplotlib.pyplot as plt\n",
    "from IPython.display import Image\n",
    "\n",
    "from sklearn import tree\n",
    "from sklearn.metrics import RocCurveDisplay\n",
    "from sklearn.tree import DecisionTreeClassifier\n",
    "from sklearn.ensemble import RandomForestClassifier\n",
    "from sklearn.model_selection import train_test_split\n",
    "from sklearn.metrics import classification_report, confusion_matrix\n",
    "\n",
    "# Ignore warnings\n",
    "import warnings\n",
    "warnings.filterwarnings('ignore')\n",
    "\n",
    "# Show current working directory\n",
    "print(os.getcwd())"
   ]
  },
  {
   "cell_type": "markdown",
   "id": "c79ca12a",
   "metadata": {},
   "source": [
    "##### Notizen\n",
    "Confusion Matrix => die vier wichtigsten (foliensatz) sollte man kennen. Man benutzt sie, um Datenstätze besser einzuschätzen. Es geht immer darum, dass man am Ende auf Basis der Feature/erklärenden Variablen versucht eine Klasse vorherzusagen (Methode spielt hierbei keine Rolle).\n",
    "\n",
    "\n",
    "Warum gibt es ein Recall/Precision? wenn man eine extrem unabalacierte Anzahl von Beobachtungen hatten, dann könnte man die occurincy nicht mehr richtig interpretieren. Und dafür gibt es die Precision.\n",
    "\n",
    "Logistische-Regession => klassifizerungs Regression\n",
    "Die Predictions liegen dann in der Kurve (nicht wenn Gerade). Beobachtungen findet man alle unten (weil 0,1), aber die Predictions sind in der Kurve. Man nimmt typischerweise 0.5 als Standardschwellenwert. Alles was unterhalb von 0.5 ist, weisst man bspw. der Klasse 0 zu, alles was oberhalb ist, der 1.\n",
    "Die Prediction-Occurency hat eine Auswirkung auf die Modelgüter. Man varriert dann alle Schwellenwerte (Rock-curve? ist dafür).\n",
    "Modell kann entsprechend also auch in den Predictions varrieren.\n",
    "\n",
    "\n"
   ]
  },
  {
   "cell_type": "markdown",
   "id": "3874c706",
   "metadata": {},
   "source": [
    "## Import titanic data"
   ]
  },
  {
   "cell_type": "code",
   "execution_count": 44,
   "id": "9d01b013",
   "metadata": {},
   "outputs": [
    {
     "name": "stdout",
     "output_type": "stream",
     "text": [
      "(891, 12)\n"
     ]
    },
    {
     "data": {
      "text/html": [
       "<div>\n",
       "<style scoped>\n",
       "    .dataframe tbody tr th:only-of-type {\n",
       "        vertical-align: middle;\n",
       "    }\n",
       "\n",
       "    .dataframe tbody tr th {\n",
       "        vertical-align: top;\n",
       "    }\n",
       "\n",
       "    .dataframe thead th {\n",
       "        text-align: right;\n",
       "    }\n",
       "</style>\n",
       "<table border=\"1\" class=\"dataframe\">\n",
       "  <thead>\n",
       "    <tr style=\"text-align: right;\">\n",
       "      <th></th>\n",
       "      <th>PassengerId</th>\n",
       "      <th>Survived</th>\n",
       "      <th>Pclass</th>\n",
       "      <th>Name</th>\n",
       "      <th>Sex</th>\n",
       "      <th>Age</th>\n",
       "      <th>SibSp</th>\n",
       "      <th>Parch</th>\n",
       "      <th>Ticket</th>\n",
       "      <th>Fare</th>\n",
       "      <th>Cabin</th>\n",
       "      <th>Embarked</th>\n",
       "    </tr>\n",
       "  </thead>\n",
       "  <tbody>\n",
       "    <tr>\n",
       "      <th>0</th>\n",
       "      <td>1</td>\n",
       "      <td>0</td>\n",
       "      <td>3</td>\n",
       "      <td>Braund, Mr. Owen Harris</td>\n",
       "      <td>male</td>\n",
       "      <td>22.0</td>\n",
       "      <td>1</td>\n",
       "      <td>0</td>\n",
       "      <td>A/5 21171</td>\n",
       "      <td>7.2500</td>\n",
       "      <td>NaN</td>\n",
       "      <td>S</td>\n",
       "    </tr>\n",
       "    <tr>\n",
       "      <th>1</th>\n",
       "      <td>2</td>\n",
       "      <td>1</td>\n",
       "      <td>1</td>\n",
       "      <td>Cumings, Mrs. John Bradley (Florence Briggs Th...</td>\n",
       "      <td>female</td>\n",
       "      <td>38.0</td>\n",
       "      <td>1</td>\n",
       "      <td>0</td>\n",
       "      <td>PC 17599</td>\n",
       "      <td>71.2833</td>\n",
       "      <td>C85</td>\n",
       "      <td>C</td>\n",
       "    </tr>\n",
       "    <tr>\n",
       "      <th>2</th>\n",
       "      <td>3</td>\n",
       "      <td>1</td>\n",
       "      <td>3</td>\n",
       "      <td>Heikkinen, Miss. Laina</td>\n",
       "      <td>female</td>\n",
       "      <td>26.0</td>\n",
       "      <td>0</td>\n",
       "      <td>0</td>\n",
       "      <td>STON/O2. 3101282</td>\n",
       "      <td>7.9250</td>\n",
       "      <td>NaN</td>\n",
       "      <td>S</td>\n",
       "    </tr>\n",
       "    <tr>\n",
       "      <th>3</th>\n",
       "      <td>4</td>\n",
       "      <td>1</td>\n",
       "      <td>1</td>\n",
       "      <td>Futrelle, Mrs. Jacques Heath (Lily May Peel)</td>\n",
       "      <td>female</td>\n",
       "      <td>35.0</td>\n",
       "      <td>1</td>\n",
       "      <td>0</td>\n",
       "      <td>113803</td>\n",
       "      <td>53.1000</td>\n",
       "      <td>C123</td>\n",
       "      <td>S</td>\n",
       "    </tr>\n",
       "    <tr>\n",
       "      <th>4</th>\n",
       "      <td>5</td>\n",
       "      <td>0</td>\n",
       "      <td>3</td>\n",
       "      <td>Allen, Mr. William Henry</td>\n",
       "      <td>male</td>\n",
       "      <td>35.0</td>\n",
       "      <td>0</td>\n",
       "      <td>0</td>\n",
       "      <td>373450</td>\n",
       "      <td>8.0500</td>\n",
       "      <td>NaN</td>\n",
       "      <td>S</td>\n",
       "    </tr>\n",
       "  </tbody>\n",
       "</table>\n",
       "</div>"
      ],
      "text/plain": [
       "   PassengerId  Survived  Pclass  \\\n",
       "0            1         0       3   \n",
       "1            2         1       1   \n",
       "2            3         1       3   \n",
       "3            4         1       1   \n",
       "4            5         0       3   \n",
       "\n",
       "                                                Name     Sex   Age  SibSp  \\\n",
       "0                            Braund, Mr. Owen Harris    male  22.0      1   \n",
       "1  Cumings, Mrs. John Bradley (Florence Briggs Th...  female  38.0      1   \n",
       "2                             Heikkinen, Miss. Laina  female  26.0      0   \n",
       "3       Futrelle, Mrs. Jacques Heath (Lily May Peel)  female  35.0      1   \n",
       "4                           Allen, Mr. William Henry    male  35.0      0   \n",
       "\n",
       "   Parch            Ticket     Fare Cabin Embarked  \n",
       "0      0         A/5 21171   7.2500   NaN        S  \n",
       "1      0          PC 17599  71.2833   C85        C  \n",
       "2      0  STON/O2. 3101282   7.9250   NaN        S  \n",
       "3      0            113803  53.1000  C123        S  \n",
       "4      0            373450   8.0500   NaN        S  "
      ]
     },
     "execution_count": 44,
     "metadata": {},
     "output_type": "execute_result"
    }
   ],
   "source": [
    "# Read and select variables\n",
    "df_titanic_orig = pd.read_csv(\"./Data/titanic.csv\", sep=\",\", encoding=\"utf-8\")\n",
    "\n",
    "# Number of rows and columns\n",
    "print(df_titanic_orig.shape)\n",
    "\n",
    "# First records\n",
    "df_titanic_orig.head(5)"
   ]
  },
  {
   "cell_type": "markdown",
   "id": "ccdcafb0",
   "metadata": {},
   "source": [
    "## Variable description"
   ]
  },
  {
   "cell_type": "markdown",
   "id": "76644983",
   "metadata": {},
   "source": [
    "- PassengerId passenger identification number\n",
    "- Survival survival status (0 = No; 1 = Yes)\n",
    "- Pclass passenger class (1 = 1st; 2 = 2nd; 3 = 3rd)\n",
    "- Name name\n",
    "- Sex sex\n",
    "- Age age \n",
    "- SibSp number of siblings/spouses aboard\n",
    "- Parch number of parents/children aboard\n",
    "- Ticket ticket number\n",
    "- Fare passenger fare (British pound)\n",
    "- Cabin cabin\n",
    "- Embarked port of embarkation (C = Cherbourg; Q = Queenstown; S = Southampton)"
   ]
  },
  {
   "cell_type": "markdown",
   "id": "504180cb",
   "metadata": {},
   "source": [
    "## Count and remove missing values"
   ]
  },
  {
   "cell_type": "code",
   "execution_count": 45,
   "id": "3c48e42d",
   "metadata": {},
   "outputs": [
    {
     "name": "stdout",
     "output_type": "stream",
     "text": [
      "PassengerId      0\n",
      "Survived         0\n",
      "Pclass           0\n",
      "Name             0\n",
      "Sex              0\n",
      "Age            177\n",
      "SibSp            0\n",
      "Parch            0\n",
      "Ticket           0\n",
      "Fare             0\n",
      "Cabin          687\n",
      "Embarked         2\n",
      "dtype: int64\n"
     ]
    }
   ],
   "source": [
    "# Count missing values\n",
    "print(df_titanic_orig.isna().sum())\n",
    "\n",
    "# Remove missing values\n",
    "df_titanic = df_titanic_orig.dropna(subset=['Survived', 'Sex', 'Age', 'Pclass', 'Fare'])"
   ]
  },
  {
   "cell_type": "markdown",
   "id": "ad654f71",
   "metadata": {},
   "source": [
    "## Barchart survival status count by gender"
   ]
  },
  {
   "cell_type": "code",
   "execution_count": 46,
   "id": "579e3f43",
   "metadata": {},
   "outputs": [
    {
     "data": {
      "image/png": "[encoded data removed]",
      "text/plain": [
       "<Figure size 600x400 with 1 Axes>"
      ]
     },
     "metadata": {},
     "output_type": "display_data"
    }
   ],
   "source": [
    "# Create a pivot table\n",
    "table = df_titanic[['Sex', 'Survived']].pivot_table(index='Sex', \n",
    "                                        columns=['Survived'], \n",
    "                                        aggfunc=len)\n",
    "\n",
    "# Plot a stacked bar chart\n",
    "table.plot(kind='bar', \n",
    "           stacked=True, \n",
    "           ylabel='Counts', \n",
    "           xlabel='Gender',\n",
    "           title='Survival Status Count by Gender', \n",
    "           rot=0,\n",
    "           figsize=(6,4))\n",
    "\n",
    "plt.show()\n",
    "\n",
    "# Es haben deutlich mehr Frauen überlebt "
   ]
  },
  {
   "cell_type": "markdown",
   "id": "1188266f",
   "metadata": {},
   "source": [
    "## Pivot table"
   ]
  },
  {
   "cell_type": "code",
   "execution_count": 47,
   "id": "218415b2",
   "metadata": {},
   "outputs": [
    {
     "data": {
      "text/html": [
       "<div>\n",
       "<style scoped>\n",
       "    .dataframe tbody tr th:only-of-type {\n",
       "        vertical-align: middle;\n",
       "    }\n",
       "\n",
       "    .dataframe tbody tr th {\n",
       "        vertical-align: top;\n",
       "    }\n",
       "\n",
       "    .dataframe thead tr th {\n",
       "        text-align: left;\n",
       "    }\n",
       "\n",
       "    .dataframe thead tr:last-of-type th {\n",
       "        text-align: right;\n",
       "    }\n",
       "</style>\n",
       "<table border=\"1\" class=\"dataframe\">\n",
       "  <thead>\n",
       "    <tr>\n",
       "      <th></th>\n",
       "      <th></th>\n",
       "      <th colspan=\"2\" halign=\"left\">Age</th>\n",
       "      <th colspan=\"2\" halign=\"left\">Fare</th>\n",
       "      <th colspan=\"2\" halign=\"left\">Pclass</th>\n",
       "    </tr>\n",
       "    <tr>\n",
       "      <th></th>\n",
       "      <th></th>\n",
       "      <th>count</th>\n",
       "      <th>mean</th>\n",
       "      <th>count</th>\n",
       "      <th>mean</th>\n",
       "      <th>count</th>\n",
       "      <th>mean</th>\n",
       "    </tr>\n",
       "    <tr>\n",
       "      <th>Survived</th>\n",
       "      <th>Sex</th>\n",
       "      <th></th>\n",
       "      <th></th>\n",
       "      <th></th>\n",
       "      <th></th>\n",
       "      <th></th>\n",
       "      <th></th>\n",
       "    </tr>\n",
       "  </thead>\n",
       "  <tbody>\n",
       "    <tr>\n",
       "      <th rowspan=\"2\" valign=\"top\">0</th>\n",
       "      <th>female</th>\n",
       "      <td>64</td>\n",
       "      <td>25.0</td>\n",
       "      <td>64</td>\n",
       "      <td>23.0</td>\n",
       "      <td>64</td>\n",
       "      <td>3.0</td>\n",
       "    </tr>\n",
       "    <tr>\n",
       "      <th>male</th>\n",
       "      <td>360</td>\n",
       "      <td>32.0</td>\n",
       "      <td>360</td>\n",
       "      <td>23.0</td>\n",
       "      <td>360</td>\n",
       "      <td>2.0</td>\n",
       "    </tr>\n",
       "    <tr>\n",
       "      <th rowspan=\"2\" valign=\"top\">1</th>\n",
       "      <th>female</th>\n",
       "      <td>197</td>\n",
       "      <td>29.0</td>\n",
       "      <td>197</td>\n",
       "      <td>56.0</td>\n",
       "      <td>197</td>\n",
       "      <td>2.0</td>\n",
       "    </tr>\n",
       "    <tr>\n",
       "      <th>male</th>\n",
       "      <td>93</td>\n",
       "      <td>27.0</td>\n",
       "      <td>93</td>\n",
       "      <td>44.0</td>\n",
       "      <td>93</td>\n",
       "      <td>2.0</td>\n",
       "    </tr>\n",
       "  </tbody>\n",
       "</table>\n",
       "</div>"
      ],
      "text/plain": [
       "                  Age        Fare       Pclass     \n",
       "                count  mean count  mean  count mean\n",
       "Survived Sex                                       \n",
       "0        female    64  25.0    64  23.0     64  3.0\n",
       "         male     360  32.0   360  23.0    360  2.0\n",
       "1        female   197  29.0   197  56.0    197  2.0\n",
       "         male      93  27.0    93  44.0     93  2.0"
      ]
     },
     "execution_count": 47,
     "metadata": {},
     "output_type": "execute_result"
    }
   ],
   "source": [
    "# Using pivot_table to reshape the data and calculate means \n",
    "pd.pivot_table(df_titanic[['Survived',\n",
    "                           'Age',\n",
    "                           'Sex',\n",
    "                           'Fare',\n",
    "                           'Pclass']],\n",
    "               index=['Survived', 'Sex'],\n",
    "               values=['Age', 'Fare', 'Pclass'],\n",
    "               aggfunc=(np.mean, 'count')).round(0)\n",
    "#Daten sollte man immer mit nicht graphischen UND graphischen anschauen."
   ]
  },
  {
   "cell_type": "markdown",
   "id": "852522c0",
   "metadata": {},
   "source": [
    "## Transform nominal variable to matrix with 0/1 values"
   ]
  },
  {
   "cell_type": "code",
   "execution_count": 48,
   "id": "8e718d2c",
   "metadata": {},
   "outputs": [
    {
     "data": {
      "text/html": [
       "<div>\n",
       "<style scoped>\n",
       "    .dataframe tbody tr th:only-of-type {\n",
       "        vertical-align: middle;\n",
       "    }\n",
       "\n",
       "    .dataframe tbody tr th {\n",
       "        vertical-align: top;\n",
       "    }\n",
       "\n",
       "    .dataframe thead th {\n",
       "        text-align: right;\n",
       "    }\n",
       "</style>\n",
       "<table border=\"1\" class=\"dataframe\">\n",
       "  <thead>\n",
       "    <tr style=\"text-align: right;\">\n",
       "      <th></th>\n",
       "      <th>Sex_female</th>\n",
       "      <th>Sex_male</th>\n",
       "    </tr>\n",
       "  </thead>\n",
       "  <tbody>\n",
       "    <tr>\n",
       "      <th>0</th>\n",
       "      <td>False</td>\n",
       "      <td>True</td>\n",
       "    </tr>\n",
       "    <tr>\n",
       "      <th>1</th>\n",
       "      <td>True</td>\n",
       "      <td>False</td>\n",
       "    </tr>\n",
       "    <tr>\n",
       "      <th>2</th>\n",
       "      <td>True</td>\n",
       "      <td>False</td>\n",
       "    </tr>\n",
       "    <tr>\n",
       "      <th>3</th>\n",
       "      <td>True</td>\n",
       "      <td>False</td>\n",
       "    </tr>\n",
       "    <tr>\n",
       "      <th>4</th>\n",
       "      <td>False</td>\n",
       "      <td>True</td>\n",
       "    </tr>\n",
       "  </tbody>\n",
       "</table>\n",
       "</div>"
      ],
      "text/plain": [
       "   Sex_female  Sex_male\n",
       "0       False      True\n",
       "1        True     False\n",
       "2        True     False\n",
       "3        True     False\n",
       "4       False      True"
      ]
     },
     "execution_count": 48,
     "metadata": {},
     "output_type": "execute_result"
    }
   ],
   "source": [
    "#Das model akzeptiert, keine nominalen variablen, deshalb muss man diese in Zahlenwerte umwandeln (z.B. female, male) \n",
    "# Female wäre dann 0, wäre female ja, dann wäre es 1\n",
    "# Indem man dann zwei Kategorien hat, müsste man eigentlich nur eine definieren(die andere kann man dann ableiten)\n",
    "male = pd.get_dummies(df_titanic, drop_first=False, columns=['Sex'])\n",
    "male[['Sex_female', 'Sex_male']].head()"
   ]
  },
  {
   "cell_type": "markdown",
   "id": "52ff3123",
   "metadata": {},
   "source": [
    "## Create binary variable 'Sex_male' (wth 0=no, 1=yes)"
   ]
  },
  {
   "cell_type": "code",
   "execution_count": 49,
   "id": "5b636656",
   "metadata": {},
   "outputs": [
    {
     "data": {
      "text/html": [
       "<div>\n",
       "<style scoped>\n",
       "    .dataframe tbody tr th:only-of-type {\n",
       "        vertical-align: middle;\n",
       "    }\n",
       "\n",
       "    .dataframe tbody tr th {\n",
       "        vertical-align: top;\n",
       "    }\n",
       "\n",
       "    .dataframe thead th {\n",
       "        text-align: right;\n",
       "    }\n",
       "</style>\n",
       "<table border=\"1\" class=\"dataframe\">\n",
       "  <thead>\n",
       "    <tr style=\"text-align: right;\">\n",
       "      <th></th>\n",
       "      <th>PassengerId</th>\n",
       "      <th>Survived</th>\n",
       "      <th>Pclass</th>\n",
       "      <th>Name</th>\n",
       "      <th>Sex</th>\n",
       "      <th>Age</th>\n",
       "      <th>SibSp</th>\n",
       "      <th>Parch</th>\n",
       "      <th>Ticket</th>\n",
       "      <th>Fare</th>\n",
       "      <th>Cabin</th>\n",
       "      <th>Embarked</th>\n",
       "      <th>Sex_male</th>\n",
       "    </tr>\n",
       "  </thead>\n",
       "  <tbody>\n",
       "    <tr>\n",
       "      <th>0</th>\n",
       "      <td>1</td>\n",
       "      <td>0</td>\n",
       "      <td>3</td>\n",
       "      <td>Braund, Mr. Owen Harris</td>\n",
       "      <td>male</td>\n",
       "      <td>22.0</td>\n",
       "      <td>1</td>\n",
       "      <td>0</td>\n",
       "      <td>A/5 21171</td>\n",
       "      <td>7.2500</td>\n",
       "      <td>NaN</td>\n",
       "      <td>S</td>\n",
       "      <td>True</td>\n",
       "    </tr>\n",
       "    <tr>\n",
       "      <th>1</th>\n",
       "      <td>2</td>\n",
       "      <td>1</td>\n",
       "      <td>1</td>\n",
       "      <td>Cumings, Mrs. John Bradley (Florence Briggs Th...</td>\n",
       "      <td>female</td>\n",
       "      <td>38.0</td>\n",
       "      <td>1</td>\n",
       "      <td>0</td>\n",
       "      <td>PC 17599</td>\n",
       "      <td>71.2833</td>\n",
       "      <td>C85</td>\n",
       "      <td>C</td>\n",
       "      <td>False</td>\n",
       "    </tr>\n",
       "    <tr>\n",
       "      <th>2</th>\n",
       "      <td>3</td>\n",
       "      <td>1</td>\n",
       "      <td>3</td>\n",
       "      <td>Heikkinen, Miss. Laina</td>\n",
       "      <td>female</td>\n",
       "      <td>26.0</td>\n",
       "      <td>0</td>\n",
       "      <td>0</td>\n",
       "      <td>STON/O2. 3101282</td>\n",
       "      <td>7.9250</td>\n",
       "      <td>NaN</td>\n",
       "      <td>S</td>\n",
       "      <td>False</td>\n",
       "    </tr>\n",
       "    <tr>\n",
       "      <th>3</th>\n",
       "      <td>4</td>\n",
       "      <td>1</td>\n",
       "      <td>1</td>\n",
       "      <td>Futrelle, Mrs. Jacques Heath (Lily May Peel)</td>\n",
       "      <td>female</td>\n",
       "      <td>35.0</td>\n",
       "      <td>1</td>\n",
       "      <td>0</td>\n",
       "      <td>113803</td>\n",
       "      <td>53.1000</td>\n",
       "      <td>C123</td>\n",
       "      <td>S</td>\n",
       "      <td>False</td>\n",
       "    </tr>\n",
       "    <tr>\n",
       "      <th>4</th>\n",
       "      <td>5</td>\n",
       "      <td>0</td>\n",
       "      <td>3</td>\n",
       "      <td>Allen, Mr. William Henry</td>\n",
       "      <td>male</td>\n",
       "      <td>35.0</td>\n",
       "      <td>0</td>\n",
       "      <td>0</td>\n",
       "      <td>373450</td>\n",
       "      <td>8.0500</td>\n",
       "      <td>NaN</td>\n",
       "      <td>S</td>\n",
       "      <td>True</td>\n",
       "    </tr>\n",
       "  </tbody>\n",
       "</table>\n",
       "</div>"
      ],
      "text/plain": [
       "   PassengerId  Survived  Pclass  \\\n",
       "0            1         0       3   \n",
       "1            2         1       1   \n",
       "2            3         1       3   \n",
       "3            4         1       1   \n",
       "4            5         0       3   \n",
       "\n",
       "                                                Name     Sex   Age  SibSp  \\\n",
       "0                            Braund, Mr. Owen Harris    male  22.0      1   \n",
       "1  Cumings, Mrs. John Bradley (Florence Briggs Th...  female  38.0      1   \n",
       "2                             Heikkinen, Miss. Laina  female  26.0      0   \n",
       "3       Futrelle, Mrs. Jacques Heath (Lily May Peel)  female  35.0      1   \n",
       "4                           Allen, Mr. William Henry    male  35.0      0   \n",
       "\n",
       "   Parch            Ticket     Fare Cabin Embarked  Sex_male  \n",
       "0      0         A/5 21171   7.2500   NaN        S      True  \n",
       "1      0          PC 17599  71.2833   C85        C     False  \n",
       "2      0  STON/O2. 3101282   7.9250   NaN        S     False  \n",
       "3      0            113803  53.1000  C123        S     False  \n",
       "4      0            373450   8.0500   NaN        S      True  "
      ]
     },
     "execution_count": 49,
     "metadata": {},
     "output_type": "execute_result"
    }
   ],
   "source": [
    "# es reicht eine Variable zu definieren => wie z.B. sex: female or not\n",
    "df_titanic['Sex_male'] = male['Sex_male']\n",
    "df_titanic.head()"
   ]
  },
  {
   "cell_type": "markdown",
   "id": "8454077a",
   "metadata": {},
   "source": [
    "## Classification Tree\n",
    "For details see: https://scikit-learn.org/stable/modules/generated/sklearn.tree.DecisionTreeClassifier.html"
   ]
  },
  {
   "cell_type": "markdown",
   "id": "33fdc652",
   "metadata": {},
   "source": [
    "### Create train and test samples (train = 80%, test = 20% of the data)"
   ]
  },
  {
   "cell_type": "code",
   "execution_count": 50,
   "id": "9ede480d",
   "metadata": {},
   "outputs": [
    {
     "name": "stdout",
     "output_type": "stream",
     "text": [
      "X_train:\n",
      "      Age  Sex_male  Pclass     Fare\n",
      "339  45.0      True       1  35.5000\n",
      "193   3.0      True       2  26.0000\n",
      "156  16.0     False       3   7.7333\n",
      "624  21.0      True       3  16.1000\n",
      "426  28.0     False       2  26.0000 \n",
      "\n",
      "y_train:\n",
      "339    0\n",
      "193    1\n",
      "156    1\n",
      "624    0\n",
      "426    1\n",
      "Name: Survived, dtype: int64\n"
     ]
    }
   ],
   "source": [
    "# Create train and test samples\n",
    "X_train, X_test, y_train, y_test = train_test_split(df_titanic[['Age', \n",
    "                                                                'Sex_male',\n",
    "                                                                'Pclass',\n",
    "                                                                'Fare']], \n",
    "                                                                df_titanic['Survived'], \n",
    "                                                                test_size=0.50, \n",
    "                                                                random_state=42)\n",
    "\n",
    "# Show X_train\n",
    "print('X_train:')\n",
    "print(X_train.head(), '\\n')\n",
    "\n",
    "# Show y_train\n",
    "print('y_train:')\n",
    "print(y_train.head())\n",
    "\n",
    "#X Matrix mit erklärenden variablen , y mit Vektoren\n",
    "# Generally speaking, with more training data, the model will learn the underlying distribution of the real data better. \n",
    "# Since a larger training set in your case improves the performance of on training and test set, you should get more data if you can. \n",
    "# The performance on the test set might not be that reliable if your test set is small. \n",
    "# In other words, your performance might be different if you change to another test set. "
   ]
  },
  {
   "cell_type": "markdown",
   "id": "d6cff87c",
   "metadata": {},
   "source": [
    "### Fit the classification tree model and make predictions"
   ]
  },
  {
   "cell_type": "code",
   "execution_count": 51,
   "id": "db24f230",
   "metadata": {},
   "outputs": [
    {
     "data": {
      "text/plain": [
       "array([1, 1, 1, 1, 0, 0, 1, 1, 0, 0, 1, 1, 1, 0, 1, 0, 0, 1, 0, 1, 0, 0,\n",
       "       0, 0, 0, 0, 0, 0, 0, 0, 0, 0, 1, 0, 0, 0, 0, 0, 0, 0, 0, 0, 1, 0,\n",
       "       0, 1, 1, 0, 0, 1, 1, 1, 1, 0, 0, 1, 0, 1, 0, 0, 1, 0, 1, 0, 0, 0,\n",
       "       0, 1, 0, 1, 0, 1, 0, 0, 0, 0, 0, 0, 0, 0, 0, 1, 0, 0, 0, 0, 0, 0,\n",
       "       0, 0, 0, 1, 1, 0, 1, 1, 1, 1, 0, 0, 1, 1, 0, 1, 1, 0, 0, 0, 0, 1,\n",
       "       1, 0, 0, 0, 0, 0, 1, 0, 0, 0, 1, 0, 0, 0, 1, 0, 0, 1, 0, 1, 0, 0,\n",
       "       0, 1, 0, 0, 0, 1, 0, 0, 0, 1, 1, 0, 0, 1, 0, 0, 0, 0, 1, 0, 0, 1,\n",
       "       0, 0, 0, 0, 1, 0, 0, 0, 0, 1, 0, 1, 1, 0, 1, 0, 0, 1, 0, 1, 0, 1,\n",
       "       0, 0, 0, 0, 1, 1, 1, 1, 0, 0, 1, 0, 1, 0, 1, 1, 1, 1, 0, 1, 0, 0,\n",
       "       1, 0, 0, 0, 0, 0, 0, 0, 1, 0, 0, 1, 0, 0, 1, 0, 0, 0, 1, 0, 0, 0,\n",
       "       0, 0, 0, 0, 0, 1, 0, 0, 0, 1, 0, 1, 0, 1, 0, 1, 0, 1, 0, 1, 1, 0,\n",
       "       0, 0, 0, 0, 0, 0, 1, 1, 0, 1, 0, 0, 0, 1, 0, 0, 1, 1, 0, 1, 0, 0,\n",
       "       0, 0, 0, 1, 0, 1, 0, 1, 0, 0, 0, 0, 0, 1, 0, 0, 1, 0, 0, 0, 0, 0,\n",
       "       0, 0, 0, 0, 0, 0, 0, 0, 1, 1, 0, 0, 0, 1, 1, 1, 0, 1, 0, 0, 0, 0,\n",
       "       1, 1, 1, 1, 0, 0, 1, 0, 0, 0, 0, 0, 0, 1, 0, 0, 1, 0, 0, 0, 0, 0,\n",
       "       1, 1, 0, 0, 1, 0, 1, 1, 1, 0, 1, 0, 0, 1, 0, 0, 1, 0, 1, 0, 0, 1,\n",
       "       1, 0, 0, 0, 1])"
      ]
     },
     "execution_count": 51,
     "metadata": {},
     "output_type": "execute_result"
    }
   ],
   "source": [
    "# Initialize the classification tree model \n",
    "# DectionTreeClassifier => macht prediction auf Basis der x-Tests\n",
    "clf = DecisionTreeClassifier(random_state=20, \n",
    "                             max_depth=8)\n",
    "\n",
    "# Train the classification tree model \n",
    "clf = clf.fit(X_train, y_train)\n",
    "\n",
    "# Make model predictions\n",
    "y_pred = clf.predict(X_test)\n",
    "y_pred\n",
    "\n",
    "# we made more nodes in the binary tree, so we see more and accurate data "
   ]
  },
  {
   "cell_type": "markdown",
   "id": "a28a20dd",
   "metadata": {},
   "source": [
    "### Show confusion matrix and classification report"
   ]
  },
  {
   "cell_type": "code",
   "execution_count": 52,
   "id": "de5355f0",
   "metadata": {},
   "outputs": [
    {
     "name": "stdout",
     "output_type": "stream",
     "text": [
      "Confusion matrix\n",
      "[[184  24]\n",
      " [ 51  98]] \n",
      "\n",
      "Classification report\n",
      "              precision    recall  f1-score   support\n",
      "\n",
      "           0       0.78      0.88      0.83       208\n",
      "           1       0.80      0.66      0.72       149\n",
      "\n",
      "    accuracy                           0.79       357\n",
      "   macro avg       0.79      0.77      0.78       357\n",
      "weighted avg       0.79      0.79      0.79       357\n",
      "\n"
     ]
    }
   ],
   "source": [
    "# Confusion matrix\n",
    "print('Confusion matrix')\n",
    "print(confusion_matrix(y_test, y_pred), '\\n')\n",
    "\n",
    "# Classification report\n",
    "print('Classification report')\n",
    "print(classification_report(y_test, y_pred))\n",
    "\n",
    "#Confusion-Matrix (oben observed 0,1, auf der Seite predicted 0,1) ist sehr klein, da man nur zwei Klassen hat\n",
    "# für 0 = yes\n",
    "# abgeleitet aus der matrix gibt es ein Classification report\n",
    "# classenimbalance = accuracy - 0.75 (zuerst anschauen)"
   ]
  },
  {
   "cell_type": "markdown",
   "id": "9937202a",
   "metadata": {},
   "source": [
    "### Print text representation of the classification tree"
   ]
  },
  {
   "cell_type": "code",
   "execution_count": 53,
   "id": "4ffdb05f",
   "metadata": {},
   "outputs": [
    {
     "name": "stdout",
     "output_type": "stream",
     "text": [
      "|--- Sex_male <= 0.50\n",
      "|   |--- Pclass <= 2.50\n",
      "|   |   |--- Age <= 5.00\n",
      "|   |   |   |--- Fare <= 88.78\n",
      "|   |   |   |   |--- class: 1\n",
      "|   |   |   |--- Fare >  88.78\n",
      "|   |   |   |   |--- class: 0\n",
      "|   |   |--- Age >  5.00\n",
      "|   |   |   |--- Fare <= 26.12\n",
      "|   |   |   |   |--- Age <= 37.00\n",
      "|   |   |   |   |   |--- Age <= 27.50\n",
      "|   |   |   |   |   |   |--- Age <= 26.00\n",
      "|   |   |   |   |   |   |   |--- class: 1\n",
      "|   |   |   |   |   |   |--- Age >  26.00\n",
      "|   |   |   |   |   |   |   |--- Fare <= 15.75\n",
      "|   |   |   |   |   |   |   |   |--- class: 1\n",
      "|   |   |   |   |   |   |   |--- Fare >  15.75\n",
      "|   |   |   |   |   |   |   |   |--- class: 0\n",
      "|   |   |   |   |   |--- Age >  27.50\n",
      "|   |   |   |   |   |   |--- class: 1\n",
      "|   |   |   |   |--- Age >  37.00\n",
      "|   |   |   |   |   |--- Age <= 39.00\n",
      "|   |   |   |   |   |   |--- class: 0\n",
      "|   |   |   |   |   |--- Age >  39.00\n",
      "|   |   |   |   |   |   |--- Fare <= 25.96\n",
      "|   |   |   |   |   |   |   |--- class: 1\n",
      "|   |   |   |   |   |   |--- Fare >  25.96\n",
      "|   |   |   |   |   |   |   |--- Age <= 43.00\n",
      "|   |   |   |   |   |   |   |   |--- class: 1\n",
      "|   |   |   |   |   |   |   |--- Age >  43.00\n",
      "|   |   |   |   |   |   |   |   |--- class: 0\n",
      "|   |   |   |--- Fare >  26.12\n",
      "|   |   |   |   |--- class: 1\n",
      "|   |--- Pclass >  2.50\n",
      "|   |   |--- Fare <= 23.09\n",
      "|   |   |   |--- Age <= 27.50\n",
      "|   |   |   |   |--- Fare <= 7.76\n",
      "|   |   |   |   |   |--- class: 1\n",
      "|   |   |   |   |--- Fare >  7.76\n",
      "|   |   |   |   |   |--- Age <= 6.00\n",
      "|   |   |   |   |   |   |--- class: 1\n",
      "|   |   |   |   |   |--- Age >  6.00\n",
      "|   |   |   |   |   |   |--- Age <= 25.50\n",
      "|   |   |   |   |   |   |   |--- Age <= 14.50\n",
      "|   |   |   |   |   |   |   |   |--- class: 0\n",
      "|   |   |   |   |   |   |   |--- Age >  14.50\n",
      "|   |   |   |   |   |   |   |   |--- class: 0\n",
      "|   |   |   |   |   |   |--- Age >  25.50\n",
      "|   |   |   |   |   |   |   |--- class: 1\n",
      "|   |   |   |--- Age >  27.50\n",
      "|   |   |   |   |--- Age <= 54.00\n",
      "|   |   |   |   |   |--- Fare <= 14.82\n",
      "|   |   |   |   |   |   |--- class: 0\n",
      "|   |   |   |   |   |--- Fare >  14.82\n",
      "|   |   |   |   |   |   |--- Fare <= 16.62\n",
      "|   |   |   |   |   |   |   |--- class: 1\n",
      "|   |   |   |   |   |   |--- Fare >  16.62\n",
      "|   |   |   |   |   |   |   |--- Age <= 33.00\n",
      "|   |   |   |   |   |   |   |   |--- class: 0\n",
      "|   |   |   |   |   |   |   |--- Age >  33.00\n",
      "|   |   |   |   |   |   |   |   |--- class: 0\n",
      "|   |   |   |   |--- Age >  54.00\n",
      "|   |   |   |   |   |--- class: 1\n",
      "|   |   |--- Fare >  23.09\n",
      "|   |   |   |--- class: 0\n",
      "|--- Sex_male >  0.50\n",
      "|   |--- Age <= 3.50\n",
      "|   |   |--- Pclass <= 2.50\n",
      "|   |   |   |--- class: 1\n",
      "|   |   |--- Pclass >  2.50\n",
      "|   |   |   |--- Age <= 2.00\n",
      "|   |   |   |   |--- class: 0\n",
      "|   |   |   |--- Age >  2.00\n",
      "|   |   |   |   |--- class: 1\n",
      "|   |--- Age >  3.50\n",
      "|   |   |--- Pclass <= 1.50\n",
      "|   |   |   |--- Age <= 38.50\n",
      "|   |   |   |   |--- Fare <= 37.81\n",
      "|   |   |   |   |   |--- class: 1\n",
      "|   |   |   |   |--- Fare >  37.81\n",
      "|   |   |   |   |   |--- Fare <= 51.52\n",
      "|   |   |   |   |   |   |--- class: 0\n",
      "|   |   |   |   |   |--- Fare >  51.52\n",
      "|   |   |   |   |   |   |--- Fare <= 61.02\n",
      "|   |   |   |   |   |   |   |--- class: 1\n",
      "|   |   |   |   |   |   |--- Fare >  61.02\n",
      "|   |   |   |   |   |   |   |--- Fare <= 132.17\n",
      "|   |   |   |   |   |   |   |   |--- class: 0\n",
      "|   |   |   |   |   |   |   |--- Fare >  132.17\n",
      "|   |   |   |   |   |   |   |   |--- class: 0\n",
      "|   |   |   |--- Age >  38.50\n",
      "|   |   |   |   |--- Age <= 75.50\n",
      "|   |   |   |   |   |--- Age <= 52.00\n",
      "|   |   |   |   |   |   |--- Age <= 47.50\n",
      "|   |   |   |   |   |   |   |--- Fare <= 26.42\n",
      "|   |   |   |   |   |   |   |   |--- class: 0\n",
      "|   |   |   |   |   |   |   |--- Fare >  26.42\n",
      "|   |   |   |   |   |   |   |   |--- class: 0\n",
      "|   |   |   |   |   |   |--- Age >  47.50\n",
      "|   |   |   |   |   |   |   |--- Age <= 48.50\n",
      "|   |   |   |   |   |   |   |   |--- class: 1\n",
      "|   |   |   |   |   |   |   |--- Age >  48.50\n",
      "|   |   |   |   |   |   |   |   |--- class: 0\n",
      "|   |   |   |   |   |--- Age >  52.00\n",
      "|   |   |   |   |   |   |--- class: 0\n",
      "|   |   |   |   |--- Age >  75.50\n",
      "|   |   |   |   |   |--- class: 1\n",
      "|   |   |--- Pclass >  1.50\n",
      "|   |   |   |--- Pclass <= 2.50\n",
      "|   |   |   |   |--- Age <= 40.50\n",
      "|   |   |   |   |   |--- class: 0\n",
      "|   |   |   |   |--- Age >  40.50\n",
      "|   |   |   |   |   |--- Age <= 42.50\n",
      "|   |   |   |   |   |   |--- class: 1\n",
      "|   |   |   |   |   |--- Age >  42.50\n",
      "|   |   |   |   |   |   |--- class: 0\n",
      "|   |   |   |--- Pclass >  2.50\n",
      "|   |   |   |   |--- Fare <= 51.70\n",
      "|   |   |   |   |   |--- Age <= 32.50\n",
      "|   |   |   |   |   |   |--- Age <= 28.50\n",
      "|   |   |   |   |   |   |   |--- Age <= 20.25\n",
      "|   |   |   |   |   |   |   |   |--- class: 0\n",
      "|   |   |   |   |   |   |   |--- Age >  20.25\n",
      "|   |   |   |   |   |   |   |   |--- class: 0\n",
      "|   |   |   |   |   |   |--- Age >  28.50\n",
      "|   |   |   |   |   |   |   |--- Fare <= 9.49\n",
      "|   |   |   |   |   |   |   |   |--- class: 0\n",
      "|   |   |   |   |   |   |   |--- Fare >  9.49\n",
      "|   |   |   |   |   |   |   |   |--- class: 1\n",
      "|   |   |   |   |   |--- Age >  32.50\n",
      "|   |   |   |   |   |   |--- Age <= 39.50\n",
      "|   |   |   |   |   |   |   |--- Age <= 38.50\n",
      "|   |   |   |   |   |   |   |   |--- class: 0\n",
      "|   |   |   |   |   |   |   |--- Age >  38.50\n",
      "|   |   |   |   |   |   |   |   |--- class: 0\n",
      "|   |   |   |   |   |   |--- Age >  39.50\n",
      "|   |   |   |   |   |   |   |--- class: 0\n",
      "|   |   |   |   |--- Fare >  51.70\n",
      "|   |   |   |   |   |--- class: 1\n",
      "\n"
     ]
    }
   ],
   "source": [
    "# Text representation of the classification tree\n",
    "text_rep = tree.export_text(clf, \n",
    "                            feature_names=list(X_train.columns))\n",
    "\n",
    "# Print text_representation\n",
    "print(text_rep)"
   ]
  },
  {
   "cell_type": "markdown",
   "id": "381947af",
   "metadata": {},
   "source": [
    "## Visualize the classification tree"
   ]
  },
  {
   "cell_type": "code",
   "execution_count": 54,
   "id": "85f22840",
   "metadata": {},
   "outputs": [
    {
     "data": {
      "image/png": "[encoded data removed]",
      "text/plain": [
       "<Figure size 1400x600 with 1 Axes>"
      ]
     },
     "metadata": {},
     "output_type": "display_data"
    }
   ],
   "source": [
    "# For the meaning of numbers in boxes see root node\n",
    "fig = plt.figure(figsize=(14,6))\n",
    "tree_plot = tree.plot_tree(clf, \n",
    "                   feature_names=list(X_train.columns),  \n",
    "                   class_names=['not survived', 'survived'],\n",
    "                   filled=True,\n",
    "                   fontsize=3,\n",
    "                   label='root')\n",
    "\n",
    "#terminal nodes: Anzahl der Passagiere, die sich drin befinden\n",
    "#Frauen auf linker seite (Passiergklasse 0.346 => kleine Klasse wie 1. Klasse)\n",
    "# Age - Kleinkinder und Säuglinge waren auch in der Titanic => haben hohe Wahrscheinlichkeit zu überleben (wenig Beobachtungen)\n",
    "# mit 123 haben fast alle Frauen aus höheren Passierklassen überlebt\n",
    "#nah beim root-node sind immer die wichtigsten variablen\n",
    "# Probabilit<: je dunkelblauer/oranger ,desto höher de Wahrscheinlichkeit  "
   ]
  },
  {
   "cell_type": "markdown",
   "id": "55281fec",
   "metadata": {},
   "source": [
    "## Random Forest Classifier\n",
    "For details see: https://scikit-learn.org/stable/modules/generated/sklearn.ensemble.RandomForestClassifier.html"
   ]
  },
  {
   "cell_type": "markdown",
   "id": "5123f45e",
   "metadata": {},
   "source": [
    "### Create train and test samples (train = 80%, test = 20% of the data)"
   ]
  },
  {
   "cell_type": "code",
   "execution_count": 55,
   "id": "7141b2d8",
   "metadata": {},
   "outputs": [
    {
     "name": "stdout",
     "output_type": "stream",
     "text": [
      "X2_train:\n",
      "      Age  Sex_male  Pclass     Fare\n",
      "328  31.0     False       3  20.5250\n",
      "73   26.0      True       3  14.4542\n",
      "253  30.0      True       3  16.1000\n",
      "719  33.0      True       3   7.7750\n",
      "666  25.0      True       2  13.0000 \n",
      "\n",
      "y2_train:\n",
      "328    1\n",
      "73     0\n",
      "253    0\n",
      "719    0\n",
      "666    0\n",
      "Name: Survived, dtype: int64\n"
     ]
    }
   ],
   "source": [
    "# Create train and test samples\n",
    "X2_train, X2_test, y2_train, y2_test = train_test_split(df_titanic[['Age', \n",
    "                                                                    'Sex_male',\n",
    "                                                                    'Pclass',\n",
    "                                                                    'Fare']], \n",
    "                                                        df_titanic['Survived'], \n",
    "                                                        test_size=0.20, \n",
    "                                                        random_state=42)\n",
    "\n",
    "# Show X2_train\n",
    "print('X2_train:')\n",
    "print(X2_train.head(), '\\n')\n",
    "\n",
    "# Show y2_train\n",
    "print('y2_train:')\n",
    "print(y2_train.head())"
   ]
  },
  {
   "cell_type": "markdown",
   "id": "db15ac37",
   "metadata": {},
   "source": [
    "### Fit the Random Forest Classifier"
   ]
  },
  {
   "cell_type": "code",
   "execution_count": 56,
   "id": "3bd21de8",
   "metadata": {},
   "outputs": [
    {
     "name": "stdout",
     "output_type": "stream",
     "text": [
      "Predicted target variable (0 = not survived, 1 = survived)\n"
     ]
    },
    {
     "data": {
      "text/plain": [
       "array([0, 1, 1, 1, 0, 0, 0, 1, 1, 1, 1, 1, 1, 0, 1, 0, 0, 1, 0, 1, 0, 1,\n",
       "       1, 1, 0, 0, 0, 0, 1, 0, 0, 0, 1, 0, 0, 0, 0, 0, 0, 0, 0, 0, 1, 0,\n",
       "       0, 1, 1, 0, 0, 1, 1, 1, 1, 0, 0, 1, 1, 0, 0, 0, 1, 0, 1, 0, 0, 0,\n",
       "       1, 1, 0, 0, 0, 1, 0, 0, 0, 0, 0, 0, 0, 1, 0, 0, 0, 0, 0, 1, 0, 0,\n",
       "       0, 0, 0, 1, 1, 0, 1, 1, 1, 1, 0, 0, 1, 1, 0, 1, 1, 0, 0, 0, 0, 1,\n",
       "       1, 0, 0, 0, 0, 0, 0, 1, 0, 0, 1, 0, 0, 0, 1, 0, 0, 1, 0, 1, 0, 0,\n",
       "       0, 1, 1, 0, 0, 1, 0, 0, 0, 1, 1])"
      ]
     },
     "execution_count": 56,
     "metadata": {},
     "output_type": "execute_result"
    }
   ],
   "source": [
    "# Initialize the random forest classifier\n",
    "rfc = RandomForestClassifier(random_state=20, max_depth=10)\n",
    "\n",
    "# Train the random forest classifier\n",
    "rfc = rfc.fit(X2_train, y2_train)\n",
    "\n",
    "# Predict the target variable (0 = not survived, 1 = survived)\n",
    "y_pred_rf = rfc.predict(X2_test)\n",
    "\n",
    "print('Predicted target variable (0 = not survived, 1 = survived)')\n",
    "y_pred_rf"
   ]
  },
  {
   "cell_type": "markdown",
   "id": "81eefb08",
   "metadata": {},
   "source": [
    "### Show confusion matrix and classification report"
   ]
  },
  {
   "cell_type": "code",
   "execution_count": 57,
   "id": "f8f171ff",
   "metadata": {},
   "outputs": [
    {
     "name": "stdout",
     "output_type": "stream",
     "text": [
      "Confusion matrix\n",
      "[[72 15]\n",
      " [16 40]] \n",
      "\n",
      "Classification report\n",
      "              precision    recall  f1-score   support\n",
      "\n",
      "           0       0.82      0.83      0.82        87\n",
      "           1       0.73      0.71      0.72        56\n",
      "\n",
      "    accuracy                           0.78       143\n",
      "   macro avg       0.77      0.77      0.77       143\n",
      "weighted avg       0.78      0.78      0.78       143\n",
      "\n"
     ]
    }
   ],
   "source": [
    "# Confusion matrix\n",
    "print('Confusion matrix')\n",
    "print(confusion_matrix(y2_test, y_pred_rf), '\\n')\n",
    "\n",
    "# Classification report\n",
    "print('Classification report')\n",
    "print(classification_report(y2_test, y_pred_rf))"
   ]
  },
  {
   "cell_type": "markdown",
   "id": "dcba715c",
   "metadata": {},
   "source": [
    "### Show feature importance"
   ]
  },
  {
   "cell_type": "code",
   "execution_count": 58,
   "id": "a566ca03",
   "metadata": {},
   "outputs": [
    {
     "name": "stdout",
     "output_type": "stream",
     "text": [
      "Index(['Sex_male', 'Age', 'Fare', 'Pclass'], dtype='object')\n",
      "[0.32834018 0.29770546 0.2695809  0.10437345]\n"
     ]
    },
    {
     "data": {
      "text/plain": [
       "<Axes: ylabel='features'>"
      ]
     },
     "execution_count": 58,
     "metadata": {},
     "output_type": "execute_result"
    },
    {
     "data": {
      "image/png": "[encoded data removed]",
      "text/plain": [
       "<Figure size 600x300 with 1 Axes>"
      ]
     },
     "metadata": {},
     "output_type": "display_data"
    }
   ],
   "source": [
    "cols = X2_train.columns\n",
    "\n",
    "# Derive feature importance from random forest\n",
    "importances = rfc.feature_importances_\n",
    "std = np.std([tree.feature_importances_ for tree in rfc.estimators_], axis=0)\n",
    "indices = np.argsort(importances)[::-1]\n",
    "\n",
    "# Print col-names and importances-values\n",
    "print( cols[indices] )\n",
    "print( importances[indices] )\n",
    "\n",
    "# Barplot with feature importance\n",
    "df_fi = pd.DataFrame({'features':cols,'importances': importances})\n",
    "df_fi.sort_values('importances', inplace=True)\n",
    "df_fi.plot(kind='barh', \n",
    "           y='importances', \n",
    "           x='features', \n",
    "           color='darkred', \n",
    "           figsize=(6,3))\n",
    "\n",
    "# hier sieht man z.B.- älterer Mann => geringe Chance\n",
    "# Frau in guter Klasse => höchste chance zu überleben"
   ]
  },
  {
   "cell_type": "code",
   "execution_count": 59,
   "id": "e5507f69",
   "metadata": {},
   "outputs": [
    {
     "name": "stdout",
     "output_type": "stream",
     "text": [
      "X2_train:\n",
      "     Pclass     Fare\n",
      "328       3  20.5250\n",
      "73        3  14.4542\n",
      "253       3  16.1000\n",
      "719       3   7.7750\n",
      "666       2  13.0000 \n",
      "\n",
      "y2_train:\n",
      "328    1\n",
      "73     0\n",
      "253    0\n",
      "719    0\n",
      "666    0\n",
      "Name: Survived, dtype: int64\n",
      "Predicted target variable (0 = not survived, 1 = survived)\n",
      "Confusion matrix\n",
      "[[70 17]\n",
      " [28 28]] \n",
      "\n",
      "Classification report\n",
      "              precision    recall  f1-score   support\n",
      "\n",
      "           0       0.71      0.80      0.76        87\n",
      "           1       0.62      0.50      0.55        56\n",
      "\n",
      "    accuracy                           0.69       143\n",
      "   macro avg       0.67      0.65      0.66       143\n",
      "weighted avg       0.68      0.69      0.68       143\n",
      "\n",
      "Index(['Fare', 'Pclass'], dtype='object')\n",
      "[0.86079732 0.13920268]\n"
     ]
    },
    {
     "data": {
      "text/plain": [
       "<Axes: ylabel='features'>"
      ]
     },
     "execution_count": 59,
     "metadata": {},
     "output_type": "execute_result"
    },
    {
     "data": {
      "image/png": "[encoded data removed]",
      "text/plain": [
       "<Figure size 600x300 with 1 Axes>"
      ]
     },
     "metadata": {},
     "output_type": "display_data"
    }
   ],
   "source": [
    "# Create train and test samples\n",
    "X2_train, X2_test, y2_train, y2_test = train_test_split(df_titanic[[\n",
    "                                                                    'Pclass',\n",
    "                                                                    'Fare']], \n",
    "                                                        df_titanic['Survived'], \n",
    "                                                        test_size=0.20, \n",
    "                                                        random_state=42)\n",
    "\n",
    "# Show X2_train\n",
    "print('X2_train:')\n",
    "print(X2_train.head(), '\\n')\n",
    "\n",
    "# Show y2_train\n",
    "print('y2_train:')\n",
    "print(y2_train.head())\n",
    "# Initialize the random forest classifier\n",
    "rfc = RandomForestClassifier(random_state=20, max_depth=10)\n",
    "\n",
    "# Train the random forest classifier\n",
    "rfc = rfc.fit(X2_train, y2_train)\n",
    "\n",
    "# Predict the target variable (0 = not survived, 1 = survived)\n",
    "y_pred_rf = rfc.predict(X2_test)\n",
    "\n",
    "print('Predicted target variable (0 = not survived, 1 = survived)')\n",
    "y_pred_rf\n",
    "# Confusion matrix\n",
    "print('Confusion matrix')\n",
    "print(confusion_matrix(y2_test, y_pred_rf), '\\n')\n",
    "\n",
    "# Classification report\n",
    "print('Classification report')\n",
    "print(classification_report(y2_test, y_pred_rf))\n",
    "cols = X2_train.columns\n",
    "# Derive feature importance from random forest\n",
    "importances = rfc.feature_importances_\n",
    "std = np.std([tree.feature_importances_ for tree in rfc.estimators_], axis=0)\n",
    "indices = np.argsort(importances)[::-1]\n",
    "\n",
    "# Print col-names and importances-values\n",
    "print( cols[indices] )\n",
    "print( importances[indices] )\n",
    "\n",
    "# Barplot with feature importance\n",
    "df_fi = pd.DataFrame({'features':cols,'importances': importances})\n",
    "df_fi.sort_values('importances', inplace=True)\n",
    "df_fi.plot(kind='barh', \n",
    "           y='importances', \n",
    "           x='features', \n",
    "           color='darkred', \n",
    "           figsize=(6,3))"
   ]
  },
  {
   "cell_type": "markdown",
   "id": "a2dc648d",
   "metadata": {},
   "source": [
    "#### Aufgabe 1d\n",
    "The class Fare."
   ]
  },
  {
   "cell_type": "markdown",
   "id": "f0039738",
   "metadata": {},
   "source": [
    "### ROC curve and AUC"
   ]
  },
  {
   "cell_type": "code",
   "execution_count": 60,
   "id": "410b176f",
   "metadata": {},
   "outputs": [
    {
     "data": {
      "image/png": "[encoded data removed]",
      "text/plain": [
       "<Figure size 600x400 with 1 Axes>"
      ]
     },
     "metadata": {},
     "output_type": "display_data"
    }
   ],
   "source": [
    "# Plot ROC curve and calculate AUC\n",
    "plt.figure(figsize=(6,4))\n",
    "ax = plt.gca()\n",
    "rfc_disp = RocCurveDisplay.from_estimator(rfc, \n",
    "                                          X2_test, \n",
    "                                          y2_test, \n",
    "                                          ax=ax,\n",
    "                                          alpha=0.8,\n",
    "                                          c=\"darkred\")\n",
    "plt.show()"
   ]
  },
  {
   "cell_type": "markdown",
   "id": "387bd5b3",
   "metadata": {},
   "source": [
    "### Jupyter notebook --footer info-- (please always provide this at the end of each submitted notebook)"
   ]
  },
  {
   "cell_type": "code",
   "execution_count": 61,
   "id": "c933c713",
   "metadata": {},
   "outputs": [
    {
     "name": "stdout",
     "output_type": "stream",
     "text": [
      "-----------------------------------\n",
      "POSIX\n",
      "Linux | 6.5.0-1025-azure\n",
      "Datetime: 2024-11-10 22:22:11\n",
      "Python Version: 3.11.10\n",
      "-----------------------------------\n"
     ]
    }
   ],
   "source": [
    "import os\n",
    "import platform\n",
    "import socket\n",
    "from platform import python_version\n",
    "from datetime import datetime\n",
    "\n",
    "print('-----------------------------------')\n",
    "print(os.name.upper())\n",
    "print(platform.system(), '|', platform.release())\n",
    "print('Datetime:', datetime.now().strftime(\"%Y-%m-%d %H:%M:%S\"))\n",
    "print('Python Version:', python_version())\n",
    "print('-----------------------------------')"
   ]
  }
 ],
 "metadata": {
  "kernelspec": {
   "display_name": "Python 3",
   "language": "python",
   "name": "python3"
  },
  "language_info": {
   "codemirror_mode": {
    "name": "ipython",
    "version": 3
   },
   "file_extension": ".py",
   "mimetype": "text/x-python",
   "name": "python",
   "nbconvert_exporter": "python",
   "pygments_lexer": "ipython3",
   "version": "3.11.10"
  }
 },
 "nbformat": 4,
 "nbformat_minor": 5
}
